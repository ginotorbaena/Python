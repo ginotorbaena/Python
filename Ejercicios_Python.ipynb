{
  "nbformat": 4,
  "nbformat_minor": 0,
  "metadata": {
    "colab": {
      "provenance": [],
      "authorship_tag": "ABX9TyOhKOPO+/c85ssUubKHuDyS",
      "include_colab_link": true
    },
    "kernelspec": {
      "name": "python3",
      "display_name": "Python 3"
    },
    "language_info": {
      "name": "python"
    }
  },
  "cells": [
    {
      "cell_type": "markdown",
      "metadata": {
        "id": "view-in-github",
        "colab_type": "text"
      },
      "source": [
        "<a href=\"https://colab.research.google.com/github/ginotorbaena/Python/blob/main/Ejercicios_Python.ipynb\" target=\"_parent\"><img src=\"https://colab.research.google.com/assets/colab-badge.svg\" alt=\"Open In Colab\"/></a>"
      ]
    },
    {
      "cell_type": "markdown",
      "source": [
        "# Practica Python"
      ],
      "metadata": {
        "id": "UHrFdziH2Y0_"
      }
    },
    {
      "cell_type": "code",
      "execution_count": null,
      "metadata": {
        "colab": {
          "base_uri": "https://localhost:8080/"
        },
        "id": "hRFTAJMNRlp5",
        "outputId": "06f5c615-9526-40c4-d8fd-c9b31964f086"
      },
      "outputs": [
        {
          "output_type": "stream",
          "name": "stdout",
          "text": [
            "¡Hola Mundo!\n"
          ]
        }
      ],
      "source": [
        "#@title Ejercicio 1\n",
        "#Escribir un programa que muestre por pantalla la cadena ¡Hola Mundo!.\n",
        "\n",
        "print(\"¡Hola Mundo!\")"
      ]
    },
    {
      "cell_type": "code",
      "source": [
        "#@title Ejercicio 2\n",
        "#Escribir un programa que almacene la cadena ¡Hola Mundo! en una variable y luego muestre por pantalla el contenido de la variable.\n",
        "\n",
        "variable = \"¡Hola Mundo!\"\n",
        "print(variable)"
      ],
      "metadata": {
        "colab": {
          "base_uri": "https://localhost:8080/"
        },
        "id": "SSbkVKWvXIxo",
        "outputId": "af275338-f7c7-4ebd-c2f7-ef28f9c58954"
      },
      "execution_count": null,
      "outputs": [
        {
          "output_type": "stream",
          "name": "stdout",
          "text": [
            "¡Hola Mundo!\n"
          ]
        }
      ]
    },
    {
      "cell_type": "code",
      "source": [
        "#@title Ejercicio 3\n",
        "#Escribir un programa que pregunte el nombre del usuario en la consola y después de que el usuario lo introduzca\n",
        "#muestre por pantalla la cadena ¡Hola <nombre>!, donde <nombre> es el nombre que el usuario haya introducido.\n",
        "\n",
        "nombre = input(\"Cual es tu nombre?: \")\n",
        "print(\"¡Hola\"+ \" \" + nombre + \"!\")"
      ],
      "metadata": {
        "colab": {
          "base_uri": "https://localhost:8080/"
        },
        "id": "LFP1n7VjXgc-",
        "outputId": "85cd1ca4-7964-4920-ac44-4e494f0971fd"
      },
      "execution_count": null,
      "outputs": [
        {
          "output_type": "stream",
          "name": "stdout",
          "text": [
            "Cual es tu nombre?: Gino\n",
            "¡Hola Gino!\n"
          ]
        }
      ]
    },
    {
      "cell_type": "code",
      "source": [
        "#@title Ejercicio 4\n",
        "#Escribir un programa que muestre por pantalla el resultado de la siguiente operación aritmética.\n",
        "\n",
        "print((3+2)/(2*5)**2)"
      ],
      "metadata": {
        "colab": {
          "base_uri": "https://localhost:8080/"
        },
        "id": "iMfiRWJ9YKn-",
        "outputId": "2113396c-95df-4b90-ce93-a9a284167527"
      },
      "execution_count": null,
      "outputs": [
        {
          "output_type": "stream",
          "name": "stdout",
          "text": [
            "0.05\n"
          ]
        }
      ]
    },
    {
      "cell_type": "code",
      "source": [
        "# @title Ejercicio 5\n",
        "#Escribir un programa que pregunte al usuario por el número de horas trabajadas y el coste por hora. Después debe mostrar por pantalla la paga que le corresponde.\n",
        "\n",
        "horas = int(input(\"Digite horas laboradas: \"))\n",
        "costo = 5532\n",
        "print(\"El costo total a pagar es:\", str(costo*horas))"
      ],
      "metadata": {
        "colab": {
          "base_uri": "https://localhost:8080/"
        },
        "id": "5grzXPh6aeIo",
        "outputId": "82af7c9f-6bf8-4713-c133-81f009fc678e"
      },
      "execution_count": null,
      "outputs": [
        {
          "output_type": "stream",
          "name": "stdout",
          "text": [
            "Digite horas laboradas: 15\n",
            "El costo total a pagar es: 82980\n"
          ]
        }
      ]
    },
    {
      "cell_type": "code",
      "source": [
        "# @title Ejercicio 6\n",
        "#Escribir un programa que lea un entero positivo n, introducido por el usuario y después muestre en pantalla la suma de todos los enteros desde 1 hasta n. La suma de los\n",
        "#primeros enteros positivos puede ser calculada de la siguiente forma:\n",
        "\n",
        "n = int(input(\"Introduce un número entero: \"))\n",
        "suma = n * (n + 1) / 2\n",
        "print(\"La suma de los primeros números enteros desde 1 hasta \" + str(n) + \" es \" + str(suma))"
      ],
      "metadata": {
        "colab": {
          "base_uri": "https://localhost:8080/"
        },
        "id": "s8sZekmhb8CH",
        "outputId": "7d8875ae-344e-4adb-d012-431ba2894a6f"
      },
      "execution_count": null,
      "outputs": [
        {
          "output_type": "stream",
          "name": "stdout",
          "text": [
            "Introduce un número entero: 5\n",
            "La suma de los primeros números enteros desde 1 hasta 5 es 15.0\n"
          ]
        }
      ]
    },
    {
      "cell_type": "code",
      "source": [
        "#@title Ejercicio 7\n",
        "#Escribir un programa que pida al usuario su peso (en kg) y estatura (en metros), calcule el índice de masa corporal\n",
        "# y lo almacene en una variable, y muestre por pantalla la frase Tu índice de masa corporal es <imc> donde <imc> es el\n",
        "#índice de masa corporal calculado redondeado con dos decimales.\n",
        "\n",
        "peso = int(input(\"Indique su peso: \"))\n",
        "altura = float(input(\"Ahora indique su altura:\"))\n",
        "print(\"Tú índice de masa corporal es \", str(peso/(altura*altura)))"
      ],
      "metadata": {
        "colab": {
          "base_uri": "https://localhost:8080/"
        },
        "id": "tdA2NEVrdhrp",
        "outputId": "7f13921d-c37b-4ba3-e6f0-03d5b67fbdbe"
      },
      "execution_count": null,
      "outputs": [
        {
          "output_type": "stream",
          "name": "stdout",
          "text": [
            "Indique su peso: 86\n",
            "Ahora indique su altura:1.70\n",
            "Tú índice de masa corporal es  29.75778546712803\n"
          ]
        }
      ]
    },
    {
      "cell_type": "code",
      "source": [
        "#@title Ejercicio 8\n",
        "#Escribir un programa que pida al usuario dos números enteros y muestre por pantalla la <n> entre <m> da un cociente <c>\n",
        "#y un resto <r> donde <n> y <m> son los números introducidos por el usuario, y <c> y <r> son el cociente y el resto de la división entera respectivamente.\n",
        "\n",
        "n = input(\"Introduce el dividendo (entero): \")\n",
        "m = input(\"Introduce el divisor (entero): \")\n",
        "print(n + \" entre \" +  m + \" da un cociente \" + str(int(n) // int(m)) + \" y un resto \" + str(int(n) % int(m)))"
      ],
      "metadata": {
        "colab": {
          "base_uri": "https://localhost:8080/"
        },
        "id": "4wFJ4jJRiWj5",
        "outputId": "db3747e6-c314-4a40-e100-dc5dabe5a614"
      },
      "execution_count": null,
      "outputs": [
        {
          "output_type": "stream",
          "name": "stdout",
          "text": [
            "Introduce el dividendo (entero): 5\n",
            "Introduce el divisor (entero): 9\n",
            "5 entre 9 da un cociente 0 y un resto 5\n"
          ]
        }
      ]
    },
    {
      "cell_type": "code",
      "source": [
        "#@title Ejercicio 9\n",
        "#Escribir un programa que pregunte al usuario una cantidad a invertir, el interés anual y el número de años, y muestre por pantalla el capital obtenido en la inversión.\n",
        "\n",
        "cantidad = float(input(\"¿Cantidad a invertir? \"))\n",
        "interes = float(input(\"¿Interés porcentual anual? \"))\n",
        "años = int(input(\"¿Años?\"))\n",
        "print(\"Capital final: \" + str(round(cantidad * (interes / 100 + 1) ** años, 2)))"
      ],
      "metadata": {
        "colab": {
          "base_uri": "https://localhost:8080/"
        },
        "id": "2MBkj5e98_Ye",
        "outputId": "91988e4b-75ae-448c-cede-e00d54c794fc"
      },
      "execution_count": null,
      "outputs": [
        {
          "output_type": "stream",
          "name": "stdout",
          "text": [
            "¿Cantidad a invertir? 1000\n",
            "¿Interés porcentual anual? 10\n",
            "¿Años?5\n",
            "Capital final: 1610.51\n"
          ]
        }
      ]
    },
    {
      "cell_type": "code",
      "source": [
        "#@title Ejercicio 10\n",
        "#Una juguetería tiene mucho éxito en dos de sus productos: payasos y muñecas. Suele hacer venta por correo y la empresa de logística\n",
        "#les cobra por peso de cada paquete así que deben calcular el peso de los payasos y muñecas que saldrán en cada paquete a demanda.\n",
        "#Cada payaso pesa 112 g y cada muñeca 75 g. Escribir un programa que lea el número de payasos y muñecas vendidos en el\n",
        "#último pedido y calcule el peso total del paquete que será enviado.\n",
        "\n",
        "peso_payaso = 112\n",
        "peso_muneca = 75\n",
        "\n",
        "cant_payasos = int(input(\"Indique la cantidad de payasos vendidos en el ultimo periodo: \"))\n",
        "cant_munecas = int(input(\"Indique la cantidad de muñecas vendidas en el ultimo periodo: \"))\n",
        "\n",
        "total_peso = peso_payaso * cant_payasos + peso_muneca * cant_munecas\n",
        "\n",
        "print(f\"El peso total del paquete es {total_peso} Kg\")"
      ],
      "metadata": {
        "id": "tJdoUsFjDpmu",
        "colab": {
          "base_uri": "https://localhost:8080/"
        },
        "outputId": "a79b79ea-6f27-4f8b-b7e6-161e76f076b9"
      },
      "execution_count": null,
      "outputs": [
        {
          "output_type": "stream",
          "name": "stdout",
          "text": [
            "Indique la cantidad de payasos vendidos en el ultimo periodo: 1\n",
            "Indique la cantidad de muñecas vendidas en el ultimo periodo: 1\n",
            "El peso total del paquete es 187 Kg\n"
          ]
        }
      ]
    },
    {
      "cell_type": "code",
      "source": [
        "#@title Ejercicio 11\n",
        "#Imagina que acabas de abrir una nueva cuenta de ahorros que te ofrece el 4% de interés al año. Estos ahorros debido a intereses,\n",
        "#que no se cobran hasta finales de año, se te añaden al balance final de tu cuenta de ahorros. Escribir un programa que comience leyendo\n",
        "#la cantidad de dinero depositada en la cuenta de ahorros, introducida por el usuario. Después el programa debe calcular y mostrar por pantalla\n",
        "#la cantidad de ahorros tras el primer, segundo y tercer años. Redondear cada cantidad a dos decimales.\n",
        "\n",
        "deposito = int(input(\"Cuanto dinero va a depositar?: \"))\n",
        "\n",
        "primer_ano = round(deposito * 0.04 / 100,2)\n",
        "print(f\"Los ahorros acumulados el primer año son de {primer_ano}\")\n"
      ],
      "metadata": {
        "colab": {
          "base_uri": "https://localhost:8080/"
        },
        "id": "LtGb-acEzZWr",
        "outputId": "cf1c3d33-01bb-4dd2-9704-611d1a19d7e7"
      },
      "execution_count": null,
      "outputs": [
        {
          "output_type": "stream",
          "name": "stdout",
          "text": [
            "Cuanto dinero va a depositar?: 50000\n",
            "Los ahorros acumulados el primer año son de 20.0\n"
          ]
        }
      ]
    },
    {
      "cell_type": "code",
      "source": [
        "#@title Ejercicio 12\n",
        "#Una panadería vende barras de pan a 3.49€ cada una. El pan que no es el día tiene un descuento del 60%.\n",
        "#Escribir un programa que comience leyendo el número de barras vendidas que no son del día.\n",
        "#Después el programa debe mostrar el precio habitual de una barra de pan, el descuento que se le hace por no ser fresca y el coste final total.\n",
        "\n",
        "no_dia = int(input(\"Cantidad de barras de pan que no son del día: \"))\n",
        "cantidad = no_dia * 3.49\n",
        "print(f\"Precio de barra de pan: 3.49\")\n",
        "print(f\"las {no_dia} barras de pan que no son del día se le aplica un descuento del 60%\")\n",
        "total = (cantidad * 60) / 100\n",
        "neto = no_dia - total\n",
        "print(f\"El total a pagar es de {neto}\")\n"
      ],
      "metadata": {
        "colab": {
          "base_uri": "https://localhost:8080/"
        },
        "id": "JMeHpquThbre",
        "outputId": "0aada791-f967-4299-9356-996aae5080fc"
      },
      "execution_count": null,
      "outputs": [
        {
          "output_type": "stream",
          "name": "stdout",
          "text": [
            "Cantidad de barras de pan que no son del día: 5\n",
            "Precio de barra de pan: 3.49\n",
            "las 5 barras de pan que no son del día se le aplica un descuento del 60%\n",
            "El total a pagar es de -5.470000000000002\n"
          ]
        }
      ]
    },
    {
      "cell_type": "markdown",
      "source": [
        "\n",
        "\n",
        "# Curso Avanzado de python"
      ],
      "metadata": {
        "id": "p2SHEPec2kLB"
      }
    },
    {
      "cell_type": "code",
      "source": [
        "#@title Día 1 - Practica de print\n",
        "print(input(\"Dime tu nombre: \") + \" \" + input(\"Dime tu apellido: \"))"
      ],
      "metadata": {
        "colab": {
          "base_uri": "https://localhost:8080/"
        },
        "id": "ib_ab9lQ4dKd",
        "outputId": "afe2f439-3305-4401-b343-b67f489613c1"
      },
      "execution_count": null,
      "outputs": [
        {
          "output_type": "stream",
          "name": "stdout",
          "text": [
            "Dime tu nombre: Gino\n",
            "Dime tu apellido: Torres\n",
            "Gino Torres\n"
          ]
        }
      ]
    },
    {
      "cell_type": "code",
      "source": [
        "#@title Práctica Input 1\n",
        "#Crea un código que le permita ingresar una respuesta al usuario, haciéndole la siguiente pregunta:\n",
        "\n",
        "#¿Qué estás estudiando?\n",
        "\n",
        "#El código debe poder imprimir en pantalla lo ingresado por el usuario (utilizando print).\n",
        "\n",
        "print(input(\"¿Qué estás estudiando?\"))"
      ],
      "metadata": {
        "colab": {
          "base_uri": "https://localhost:8080/"
        },
        "id": "fnnTDTxS4pvZ",
        "outputId": "d6bea6e4-80dd-4431-c4d8-aad6b85b9f01"
      },
      "execution_count": null,
      "outputs": [
        {
          "output_type": "stream",
          "name": "stdout",
          "text": [
            "¿Qué estás estudiando?Ingeniería\n",
            "Ingeniería\n"
          ]
        }
      ]
    },
    {
      "cell_type": "code",
      "source": [
        "#@title Práctica Input 2\n",
        "#Crea un código que le permita ingresar una respuesta al usuario, haciéndole la siguiente pregunta:\n",
        "\n",
        "#¿En qué país vives?\n",
        "\n",
        "#El código debe poder imprimir en pantalla lo ingresado por el usuario (utilizando print).\n",
        "\n",
        "print(input(\"¿En qué país vives?: \"))"
      ],
      "metadata": {
        "colab": {
          "base_uri": "https://localhost:8080/"
        },
        "id": "oDp35llZ484P",
        "outputId": "dee952a5-bf9c-450d-caf4-90e802ee6888"
      },
      "execution_count": null,
      "outputs": [
        {
          "output_type": "stream",
          "name": "stdout",
          "text": [
            "¿En qué país vives?: Soledad\n",
            "Soledad\n"
          ]
        }
      ]
    },
    {
      "cell_type": "code",
      "source": [
        "#@title Práctica Input 3\n",
        "#Crea un código que muestre en pantalla el nombre completo del usuario, permitiéndole ingresar su nombre y apellido con las siguientes instrucciones:\n",
        "\n",
        "#Escribe tu nombre:\n",
        "#Escribe tu apellido:\n",
        "#El código debe poder imprimir en pantalla el nombre y apellido del usuario, separados por un espacio.\n",
        "\n",
        "print(input(\"Escribe tu nombre: \") + \" \" + input(\"Escribe tu apellido: \"))"
      ],
      "metadata": {
        "colab": {
          "base_uri": "https://localhost:8080/"
        },
        "id": "i3U62Lnb4Gg0",
        "outputId": "054929c5-4685-4004-8971-57882e271dbb"
      },
      "execution_count": null,
      "outputs": [
        {
          "output_type": "stream",
          "name": "stdout",
          "text": [
            "Escribe tu nombre: Gino\n",
            "Escribe tu apellido: Torres\n",
            "Gino Torres\n"
          ]
        }
      ]
    },
    {
      "cell_type": "code",
      "source": [
        "#@title Día 2 - Integer y float"
      ],
      "metadata": {
        "id": "rV5LdnibGYEd"
      },
      "execution_count": null,
      "outputs": []
    },
    {
      "cell_type": "code",
      "source": [
        "#@title Práctica con Integers\n",
        "#Declara una variable numérica llamada num_entero que contenga un valor de tipo integer de tu elección. Imprime el tipo de dato de dicha variable.\n",
        "\n",
        "num_entero = int(input(\"Digita un número:\"))\n",
        "print(type(num_entero))"
      ],
      "metadata": {
        "colab": {
          "base_uri": "https://localhost:8080/"
        },
        "id": "oW5WJNBNGfo8",
        "outputId": "bac126a7-5cf3-448a-9ef6-b5dcb42463eb"
      },
      "execution_count": null,
      "outputs": [
        {
          "output_type": "stream",
          "name": "stdout",
          "text": [
            "Digita un número:8\n",
            "<class 'int'>\n"
          ]
        }
      ]
    },
    {
      "cell_type": "code",
      "source": [
        "#@title Práctica con Floats\n",
        "#Declara una variable numérica llamada num_decimal que contenga un valor de tipo float de tu elección. Imprime el tipo de dato de dicha variable.\n",
        "\n",
        "num_decimal = float(input(\"Digita un número: \"))\n",
        "print(type(num_decimal))"
      ],
      "metadata": {
        "colab": {
          "base_uri": "https://localhost:8080/"
        },
        "id": "SdWx1uaAHlMg",
        "outputId": "15d3547b-0b0e-4a24-8932-1fef61bbe0af"
      },
      "execution_count": null,
      "outputs": [
        {
          "output_type": "stream",
          "name": "stdout",
          "text": [
            "Digita un número: 4.5\n",
            "<class 'float'>\n"
          ]
        }
      ]
    },
    {
      "cell_type": "code",
      "source": [
        "#@title Práctica con Tipos de Datos Numéricos\n",
        "#¿De qué tipo es el resultado de la suma de 7.5 + 2.5? Genera el código para verificarlo. Para ello, crea dos variables: num1 = 7.5 num2 = 2.5 A continuación,\n",
        "#muestra en pantalla el tipo de dato que resulta de la suma de ambos números. Realiza el mismo ejercicio en PyCharm para ver el resultado. ¿Coindice con lo que esperabas?\n",
        "\n",
        "num1 = 7.5\n",
        "num2 = 2.5\n",
        "print(type(num1+num2))\n",
        "print(num1+num2)"
      ],
      "metadata": {
        "colab": {
          "base_uri": "https://localhost:8080/"
        },
        "id": "RrVWu3qAJEAv",
        "outputId": "9c9b38aa-3b5d-4402-bae3-f4558459c271"
      },
      "execution_count": null,
      "outputs": [
        {
          "output_type": "stream",
          "name": "stdout",
          "text": [
            "<class 'float'>\n",
            "10.0\n"
          ]
        }
      ]
    },
    {
      "cell_type": "code",
      "source": [
        "#@title Práctica con Conversiones 1\n",
        "#Convierte el valor de num1 en un int e imprime el tipo de dato que resulta: num1 = 7.5\n",
        "num1 = 7.5\n",
        "num1 = int(num1)\n",
        "print(num1)\n",
        "print(type(num1))"
      ],
      "metadata": {
        "colab": {
          "base_uri": "https://localhost:8080/"
        },
        "id": "RJVBwI3BMZ-1",
        "outputId": "032242a1-4b44-4e84-e82e-a3ed2ff636ab"
      },
      "execution_count": null,
      "outputs": [
        {
          "output_type": "stream",
          "name": "stdout",
          "text": [
            "7\n",
            "<class 'int'>\n"
          ]
        }
      ]
    },
    {
      "cell_type": "code",
      "source": [
        "#@title Práctica con Conversiones 2\n",
        "#Convierte el valor de num2 en un float e imprime el tipo de dato que resulta: num2 = 10\n",
        "\n",
        "num2 = 10\n",
        "num2 = float(num2)\n",
        "print(type(num2))\n",
        "print(num2)"
      ],
      "metadata": {
        "colab": {
          "base_uri": "https://localhost:8080/"
        },
        "id": "eajefCirRWy2",
        "outputId": "31439700-f673-4393-e17f-d9979b550efe"
      },
      "execution_count": null,
      "outputs": [
        {
          "output_type": "stream",
          "name": "stdout",
          "text": [
            "<class 'float'>\n",
            "10.0\n"
          ]
        }
      ]
    },
    {
      "cell_type": "code",
      "source": [
        "#@title Práctica con Conversiones 3\n",
        "#Suma los valores de num1 y num2. No modifiques el valor de las variables ya declaradas, sino aplica las conversiones necesarias dentro de la función print().\n",
        "#num1 = \"7.5\" num2 = \"10\" print(num1 + num2)\n",
        "\n"
      ],
      "metadata": {
        "id": "aIGHRrj-USBz"
      },
      "execution_count": null,
      "outputs": []
    },
    {
      "cell_type": "code",
      "source": [
        "x = 5\n",
        "y = 10\n",
        "\n",
        "print(f\"la suma de {x} y {y} es {x+y}\")"
      ],
      "metadata": {
        "colab": {
          "base_uri": "https://localhost:8080/"
        },
        "id": "WXeRdWXkFvrS",
        "outputId": "df763983-25be-4658-dcdc-7234c66a947a"
      },
      "execution_count": null,
      "outputs": [
        {
          "output_type": "stream",
          "name": "stdout",
          "text": [
            "la suma de 5 y 10 es 15\n"
          ]
        }
      ]
    },
    {
      "cell_type": "code",
      "source": [
        "#@title Práctica Formatear Cadenas 1\n",
        "#Necesitamos imprimir el nombre y número de asociado dentro de la siguiente frase: \"Estimado/a (nombre_asociado),\n",
        "#su número de asociado es: (numero_asociado)\" Recuerda que la precisión de tu respuesta (espacios, ortografía y puntuación),\n",
        "#es muy importante para llegar al resultado correcto. nombre_asociado = \"Jesse Pinkman\" numero_asociado = 399058\n",
        "\n",
        "nombre_asociado = \"Jesse Pinkman\"\n",
        "numero_asociado = 399058\n",
        "print(f\"Estimado/a {nombre_asociado}, su numero de asociado es: {numero_asociado}\")"
      ],
      "metadata": {
        "colab": {
          "base_uri": "https://localhost:8080/"
        },
        "id": "ardCnW1jHo9i",
        "outputId": "c6249d36-ef7d-487f-8414-7f5c2b75102a"
      },
      "execution_count": null,
      "outputs": [
        {
          "output_type": "stream",
          "name": "stdout",
          "text": [
            "Estimado/a Jesse Pinkman, su numero de asociado es: 399058\n"
          ]
        }
      ]
    },
    {
      "cell_type": "code",
      "source": [
        "#@title Práctica Formatear Cadenas 2\n",
        "#Muestra al usuario la cantidad de puntos acumulados dentro de la siguiente frase: \"Has ganado (puntos_nuevos) puntos! En total, acumulas (puntos_totales) puntos\"\n",
        "#Recuerda que la precisión de tu respuesta (espacios, ortografía y puntuación), es muy importante para llegar al resultado correcto. puntos_nuevos = 350 puntos_totales = 1225\n",
        "\n",
        "puntos_nuevos = 350\n",
        "puntos_totales = 1225\n",
        "print(f\"Has ganado {puntos_nuevos} puntos! en total, acumulas {puntos_totales} puntos.\")"
      ],
      "metadata": {
        "colab": {
          "base_uri": "https://localhost:8080/"
        },
        "id": "QMtEacKxIdAs",
        "outputId": "9d2df401-3dfb-4ce7-9e3a-62f0e5b59e45"
      },
      "execution_count": null,
      "outputs": [
        {
          "output_type": "stream",
          "name": "stdout",
          "text": [
            "Has ganado 350 puntos! en total, acumulas 1225 puntos.\n"
          ]
        }
      ]
    },
    {
      "cell_type": "code",
      "source": [
        "#@title Práctica Formatear Cadenas 3\n",
        "#Muestra al usuario la cantidad de puntos acumulados dentro de la siguiente frase: \"Has ganado (puntos_nuevos) puntos! En total, acumulas (puntos_totales) puntos\"\n",
        "#En esta ocasión, la cantidad de puntos acumulados (totales) será igual a los puntos_anteriores más los puntos_nuevos.\n",
        "#Recuerda que la precisión de tu respuesta (espacios, ortografía y puntuación), es muy importante para llegar al resultado correcto. puntos_anteriores = 875 puntos_nuevos = 350\n",
        "\n",
        "puntos_anteriores = 875\n",
        "puntos_nuevos = 350\n",
        "print(f\"Has ganado {puntos_anteriores} puntos! En total, acumulas {puntos_nuevos} puntos, en total, acumulas {puntos_anteriores + puntos_nuevos} puntos\")"
      ],
      "metadata": {
        "id": "kPTFEYwvJNXx",
        "colab": {
          "base_uri": "https://localhost:8080/"
        },
        "outputId": "a090b06b-f8cd-40d0-fd38-3754e4b956fb"
      },
      "execution_count": null,
      "outputs": [
        {
          "output_type": "stream",
          "name": "stdout",
          "text": [
            "Has ganado 875 puntos! En total, acumulas 350 puntos, en total, acumulas 1225 puntos\n"
          ]
        }
      ]
    },
    {
      "cell_type": "code",
      "source": [
        "#@title Práctica Operadores Matemáticos 1\n",
        "#Muestra en pantalla el cociente (división al piso) de los siguientes dos números: 874 dividido entre 27\n",
        "\n",
        "a = 874\n",
        "b = 27\n",
        "print(f\"El cociente de la división entre {a} y {b} es {a/b}\")"
      ],
      "metadata": {
        "colab": {
          "base_uri": "https://localhost:8080/"
        },
        "id": "iQ6Y3fLX3Tj4",
        "outputId": "5e4bc7c6-e72d-40f0-8438-3146358a6d68"
      },
      "execution_count": null,
      "outputs": [
        {
          "output_type": "stream",
          "name": "stdout",
          "text": [
            "El cociente de la división entre 874 y 27 es 32.370370370370374\n"
          ]
        }
      ]
    },
    {
      "cell_type": "code",
      "source": [
        "#@title Práctica Operadores Matemáticos 2\n",
        "#Muestra en pantalla el módulo (es decir, el resto) de la división entre 456 y 33\n",
        "\n",
        "a = 456\n",
        "b = 33\n",
        "print(f\"El modulo de la división entre {a} y {b} es {a%b}\")"
      ],
      "metadata": {
        "colab": {
          "base_uri": "https://localhost:8080/"
        },
        "id": "Jk5VJa3s6DNp",
        "outputId": "52e580be-d4df-4714-f089-030dc64c1c66"
      },
      "execution_count": null,
      "outputs": [
        {
          "output_type": "stream",
          "name": "stdout",
          "text": [
            "El modulo de la división entre 456 y 33 es 27\n"
          ]
        }
      ]
    },
    {
      "cell_type": "code",
      "source": [
        "#@title Práctica Operadores Matemáticos 3\n",
        "#Calcula y muestra en pantalla la raíz cuadrada de 783\n",
        "\n",
        "print(f\"La raíz cuadrada de 783 es {783**0.5}\")"
      ],
      "metadata": {
        "colab": {
          "base_uri": "https://localhost:8080/"
        },
        "id": "UJiC4JV-6jDm",
        "outputId": "ea48b255-7ce0-4c5f-d251-995d88cf0e96"
      },
      "execution_count": null,
      "outputs": [
        {
          "output_type": "stream",
          "name": "stdout",
          "text": [
            "La raíz cuadrada de 783 es 27.982137159266443\n"
          ]
        }
      ]
    },
    {
      "cell_type": "code",
      "source": [
        "#@title Práctica Redondeo 1\n",
        "#Redondea el resultado de la división 10/3 a un número con 2 decimales, y muestra en pantalla el valor redondeado.\n",
        "\n",
        "print(f\"El resultado del redondeo de la división 10/3 con 2 decimales es {round(10/3,2)}\")"
      ],
      "metadata": {
        "id": "ly16VXbG67Zk",
        "colab": {
          "base_uri": "https://localhost:8080/"
        },
        "outputId": "4ba6ede1-bc63-4ded-c882-40f8a9f08e1a"
      },
      "execution_count": null,
      "outputs": [
        {
          "output_type": "stream",
          "name": "stdout",
          "text": [
            "El resultado del redondeo de la división 10/3 con 2 decimales es 3.33\n"
          ]
        }
      ]
    },
    {
      "cell_type": "code",
      "source": [
        "#@title Práctica Redondeo 2\n",
        "#Redondea el resultado de 10.676767 al entero más próximo, y muestra en pantalla el resultado. valor = 10.676767\n",
        "\n",
        "print(f\"El resultado del redondeo de 10.676767 es {round(10.676767)}\")"
      ],
      "metadata": {
        "id": "0aF44xa7KgW3",
        "colab": {
          "base_uri": "https://localhost:8080/"
        },
        "outputId": "85d08af0-d7b8-49ce-eaec-a811565621ae"
      },
      "execution_count": null,
      "outputs": [
        {
          "output_type": "stream",
          "name": "stdout",
          "text": [
            "El resultado del redondeo de 10.676767 es 11\n"
          ]
        }
      ]
    },
    {
      "cell_type": "code",
      "source": [
        "#@title Práctica Redondeo 3\n",
        "#Calcula la raíz cuadrada de 5, y muestra en pantalla el resultado redondeado con 4 posiciones decimales.\n",
        "\n",
        "raiz = 5**0.5\n",
        "\n",
        "print(f\"El redondeo de raíz cuadrada de 5 a 4 posiciones decimales es {round(raiz,4)}\")"
      ],
      "metadata": {
        "colab": {
          "base_uri": "https://localhost:8080/"
        },
        "id": "yX5txa9UlUyx",
        "outputId": "76162f7e-76d3-42db-8e63-b2c09c99ce96"
      },
      "execution_count": null,
      "outputs": [
        {
          "output_type": "stream",
          "name": "stdout",
          "text": [
            "El redondeo de raíz cuadrada de 5 a 4 posiciones decimales es 2.2361\n"
          ]
        }
      ]
    },
    {
      "cell_type": "code",
      "source": [
        "#@title Práctica Método Index()1\n",
        "# Encuentra y muestra en pantalla qué caracter ocupa la quinta posición dentro de la siguiente palabra: \"ordenador\"\n",
        "\n",
        "palabra = \"Ordenador\"\n",
        "resultado = palabra[4]\n",
        "print(\"En la palabra Ordenador, el caracter que ocupa la quinta posición es:\", resultado)\n"
      ],
      "metadata": {
        "colab": {
          "base_uri": "https://localhost:8080/"
        },
        "id": "t7WN-q8imSH5",
        "outputId": "e9e3c3f8-6fb8-4d26-a90b-abaa39ae61b4"
      },
      "execution_count": null,
      "outputs": [
        {
          "output_type": "stream",
          "name": "stdout",
          "text": [
            "En la palabra Ordenador, el caracter que ocupa la quinta posición es: n\n"
          ]
        }
      ]
    },
    {
      "cell_type": "code",
      "source": [
        "#@title Práctica Método Index() 2\n",
        "# Encuentra y muestra en pantalla el índice de la primera aparición de la palabra \"práctica\" en la siguiente frase: \"En teoría, la teoría y la práctica son los mismos. En la práctica, no lo son.\"\n",
        "# frase = \"En teoría, la teoría y la práctica son los mismos. En la práctica, no lo son.\"\n",
        "\n",
        "frase = \"En teoría, la teoría y la práctica son los mismos. En la práctica, no lo son.\"\n",
        "resultado = frase.index(\"práctica\")\n",
        "print(\"La primera aparición de la palabra práctica fue en la posición\", resultado)"
      ],
      "metadata": {
        "colab": {
          "base_uri": "https://localhost:8080/"
        },
        "id": "SZEZi4wfOz2d",
        "outputId": "2c1396a5-2c3f-42b6-f58e-4a4590ce545d"
      },
      "execution_count": null,
      "outputs": [
        {
          "output_type": "stream",
          "name": "stdout",
          "text": [
            "La primera aparición de la palabra práctica fue en la posición 26\n"
          ]
        }
      ]
    },
    {
      "cell_type": "code",
      "source": [
        "#@title Práctica Método Index() 3\n",
        "#Encuentra y muestra en pantalla el índice de la última aparición de la palabra \"practica\" en la siguiente frase: \"En teoría, la teoría y la práctica son los mismos. En la práctica, no lo son.\"\n",
        "#frase = \"En teoría, la teoría y la práctica son los mismos. En la práctica, no lo son.\"\n",
        "\n",
        "frase = \"En teoría, la teoría y la práctica son los mismos. En la práctica, no lo son.\"\n",
        "resultado = frase.rindex(\"práctica\")\n",
        "print(\"La última aparición de la palabra práctica fue en la posición\", resultado)"
      ],
      "metadata": {
        "colab": {
          "base_uri": "https://localhost:8080/"
        },
        "id": "otjk9ta-Rycl",
        "outputId": "c9c44d16-a5f4-4b7e-fc9f-7e29a60d065b"
      },
      "execution_count": null,
      "outputs": [
        {
          "output_type": "stream",
          "name": "stdout",
          "text": [
            "La última aparición de la palabra práctica fue en la posición 57\n"
          ]
        }
      ]
    },
    {
      "cell_type": "code",
      "source": [
        "#@title Práctica Métodos de String 1\n",
        "#Imprime el siguiente texto en mayúsculas, empleando el método específico de strings: frase = \"Especialmente en las comunicaciones electrónicas, la escritura enteramente en mayúsculas equivale a gritar.\"\n",
        "\n",
        "frase = \"Especialmente en las comunicaciones electrónicas, la escritura enteramente en mayúsculas equivale a gritar.\"\n",
        "\n",
        "frase.upper()"
      ],
      "metadata": {
        "colab": {
          "base_uri": "https://localhost:8080/",
          "height": 35
        },
        "id": "P0ULXcfeYLae",
        "outputId": "687c19c2-cb28-4979-e38b-5188d8967d3f"
      },
      "execution_count": null,
      "outputs": [
        {
          "output_type": "execute_result",
          "data": {
            "text/plain": [
              "'ESPECIALMENTE EN LAS COMUNICACIONES ELECTRÓNICAS, LA ESCRITURA ENTERAMENTE EN MAYÚSCULAS EQUIVALE A GRITAR.'"
            ],
            "application/vnd.google.colaboratory.intrinsic+json": {
              "type": "string"
            }
          },
          "metadata": {},
          "execution_count": 17
        }
      ]
    },
    {
      "cell_type": "code",
      "source": [
        "#@title Práctica Métodos de String 2\n",
        "#Une la siguiente lista en un string, separando cada elemento con un espacio. Utiliza el método apropiado de listas/strings, y muestra en pantalla el resultado. lista_palabras = [\"La\",\"legibilidad\",\"cuenta.\"]\n",
        "\n",
        "lista_palabras = [\"La\",\"legibilidad\",\"cuenta.\"]\n",
        "frase = \" \".join(lista_palabras)\n",
        "print(frase)"
      ],
      "metadata": {
        "colab": {
          "base_uri": "https://localhost:8080/"
        },
        "id": "0Xm2E1nyvlCY",
        "outputId": "a51aff8c-367a-43c9-d277-60ead591ae49"
      },
      "execution_count": null,
      "outputs": [
        {
          "output_type": "stream",
          "name": "stdout",
          "text": [
            "La legibilidad cuenta.\n"
          ]
        }
      ]
    },
    {
      "cell_type": "code",
      "source": [
        "#@title Práctica Métodos de String 3\n",
        "# Reemplaza en la siguiente frase: \"Si la implementación es difícil de explicar, puede que sea una mala idea.\"\n",
        "# los siguientes pares de palabras: \"difícil\" --> \"fácil\" \"mala\" --> \"buena\" y muestra en pantalla la frase con ambas palabras modificadas. Si la implementación es difícil de explicar, puede que sea una mala idea.\n",
        "\n",
        "frase = \"Si la implementación es difícil de explicar, puede que sea una mala idea.\"\n",
        "print(frase)\n",
        "cambio = frase.replace(\"dificil\",\"fácil\")\n",
        "print(cambio)\n",
        "cambio = frase.replace(\"mala\",\"buena\")\n",
        "print(cambio)"
      ],
      "metadata": {
        "colab": {
          "base_uri": "https://localhost:8080/"
        },
        "id": "hVU974Eyx3Fl",
        "outputId": "0a2c1889-8610-46b1-bcc3-39e90695d49a"
      },
      "execution_count": null,
      "outputs": [
        {
          "output_type": "stream",
          "name": "stdout",
          "text": [
            "Si la implementación es difícil de explicar, puede que sea una mala idea.\n",
            "Si la implementación es difícil de explicar, puede que sea una mala idea.\n",
            "Si la implementación es difícil de explicar, puede que sea una buena idea.\n"
          ]
        }
      ]
    },
    {
      "cell_type": "code",
      "source": [
        "#@title Práctica Propiedades de Strings 1\n",
        "# Concatena 15 veces el texto \"Repetición\" y muestra el resultado en pantalla.\n",
        "# Por suerte, conoces que los strings son multiplicables y puedes realizar esta actividad de forma simple y elegante.\n",
        "texto = \"Repetición\"\n",
        "print(texto * 15)"
      ],
      "metadata": {
        "colab": {
          "base_uri": "https://localhost:8080/"
        },
        "id": "pL5Y-Wp392mq",
        "outputId": "40575e78-7fb4-4c88-fd5d-15ecf5a870ee"
      },
      "execution_count": null,
      "outputs": [
        {
          "output_type": "stream",
          "name": "stdout",
          "text": [
            "RepeticiónRepeticiónRepeticiónRepeticiónRepeticiónRepeticiónRepeticiónRepeticiónRepeticiónRepeticiónRepeticiónRepeticiónRepeticiónRepeticiónRepetición\n"
          ]
        }
      ]
    },
    {
      "cell_type": "code",
      "source": [
        "#@title Práctica Propiedades de Strings 2\n",
        "# Verifica si la palabra \"agua\" no se encuentra en el siguiente haiku. Debes imprimir el booleano.\n",
        "# Tierra mojada, mis recuerdos de viaje entre las lluvias Tierra mojada mis recuerdos de viaje, entre las lluvias\n",
        "\n",
        "haiku = \"\"\"Tierra mojada, mis recuerdos de viaje entre las lluvias Tierra mojada mis recuerdos de viaje, entre las lluvias\"\"\"\n",
        "\n",
        "print(\"agua\" not in haiku)"
      ],
      "metadata": {
        "colab": {
          "base_uri": "https://localhost:8080/"
        },
        "id": "znchC7Qu-Ky5",
        "outputId": "5fa1b2d4-4edb-49fc-8ead-d8d8337a07c0"
      },
      "execution_count": null,
      "outputs": [
        {
          "output_type": "stream",
          "name": "stdout",
          "text": [
            "True\n"
          ]
        }
      ]
    },
    {
      "cell_type": "code",
      "source": [
        "#@title Práctica Propiedades de Strings 3\n",
        "# Muestra en pantalla el largo (en números de caracteres) de la palabra electroencefalografista.\n",
        "\n",
        "frase = len(\"electroencefalografista\")\n",
        "print(frase)"
      ],
      "metadata": {
        "id": "4aXs7386xjlk",
        "colab": {
          "base_uri": "https://localhost:8080/"
        },
        "outputId": "87ee2adf-7bbe-4ea6-b1f3-b336c4325e9e"
      },
      "execution_count": null,
      "outputs": [
        {
          "output_type": "stream",
          "name": "stdout",
          "text": [
            "23\n"
          ]
        }
      ]
    },
    {
      "cell_type": "code",
      "source": [
        "#@title Práctica Listas 3\n",
        "# Utiliza el método pop() para quitar el tercer elemento de la siguiente lista llamada frutas, y almacénalo en una variable llamada eliminado.\n",
        "# Utiliza métodos de listas sin alterar la línea de código ya suministrada. manzana banana mango cereza sandía frutas = [\"manzana\", \"banana\", \"mango\", \"cereza\", \"sandía\"]\n",
        "\n"
      ],
      "metadata": {
        "id": "ICOlzXwrxC4B"
      },
      "execution_count": null,
      "outputs": []
    }
  ]
}