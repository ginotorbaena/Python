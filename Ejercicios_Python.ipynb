{
  "nbformat": 4,
  "nbformat_minor": 0,
  "metadata": {
    "colab": {
      "provenance": [],
      "toc_visible": true,
      "authorship_tag": "ABX9TyO1BX7swiwoWmXGgJHyokCe",
      "include_colab_link": true
    },
    "kernelspec": {
      "name": "python3",
      "display_name": "Python 3"
    },
    "language_info": {
      "name": "python"
    }
  },
  "cells": [
    {
      "cell_type": "markdown",
      "metadata": {
        "id": "view-in-github",
        "colab_type": "text"
      },
      "source": [
        "<a href=\"https://colab.research.google.com/github/ginotorbaena/Python/blob/main/Ejercicios_Python.ipynb\" target=\"_parent\"><img src=\"https://colab.research.google.com/assets/colab-badge.svg\" alt=\"Open In Colab\"/></a>"
      ]
    },
    {
      "cell_type": "markdown",
      "source": [
        "# Practica Python"
      ],
      "metadata": {
        "id": "UHrFdziH2Y0_"
      }
    },
    {
      "cell_type": "code",
      "execution_count": null,
      "metadata": {
        "colab": {
          "base_uri": "https://localhost:8080/"
        },
        "id": "hRFTAJMNRlp5",
        "outputId": "06f5c615-9526-40c4-d8fd-c9b31964f086"
      },
      "outputs": [
        {
          "output_type": "stream",
          "name": "stdout",
          "text": [
            "¡Hola Mundo!\n"
          ]
        }
      ],
      "source": [
        "#@title Ejercicio 1\n",
        "#Escribir un programa que muestre por pantalla la cadena ¡Hola Mundo!.\n",
        "\n",
        "print(\"¡Hola Mundo!\")"
      ]
    },
    {
      "cell_type": "code",
      "source": [
        "#@title Ejercicio 2\n",
        "#Escribir un programa que almacene la cadena ¡Hola Mundo! en una variable y luego muestre por pantalla el contenido de la variable.\n",
        "\n",
        "variable = \"¡Hola Mundo!\"\n",
        "print(variable)"
      ],
      "metadata": {
        "colab": {
          "base_uri": "https://localhost:8080/"
        },
        "id": "SSbkVKWvXIxo",
        "outputId": "af275338-f7c7-4ebd-c2f7-ef28f9c58954"
      },
      "execution_count": null,
      "outputs": [
        {
          "output_type": "stream",
          "name": "stdout",
          "text": [
            "¡Hola Mundo!\n"
          ]
        }
      ]
    },
    {
      "cell_type": "code",
      "source": [
        "#@title Ejercicio 3\n",
        "#Escribir un programa que pregunte el nombre del usuario en la consola y después de que el usuario lo introduzca\n",
        "#muestre por pantalla la cadena ¡Hola <nombre>!, donde <nombre> es el nombre que el usuario haya introducido.\n",
        "\n",
        "nombre = input(\"Cual es tu nombre?: \")\n",
        "print(\"¡Hola\"+ \" \" + nombre + \"!\")"
      ],
      "metadata": {
        "colab": {
          "base_uri": "https://localhost:8080/"
        },
        "id": "LFP1n7VjXgc-",
        "outputId": "85cd1ca4-7964-4920-ac44-4e494f0971fd"
      },
      "execution_count": null,
      "outputs": [
        {
          "output_type": "stream",
          "name": "stdout",
          "text": [
            "Cual es tu nombre?: Gino\n",
            "¡Hola Gino!\n"
          ]
        }
      ]
    },
    {
      "cell_type": "code",
      "source": [
        "#@title Ejercicio 4\n",
        "#Escribir un programa que muestre por pantalla el resultado de la siguiente operación aritmética.\n",
        "\n",
        "print((3+2)/(2*5)**2)"
      ],
      "metadata": {
        "colab": {
          "base_uri": "https://localhost:8080/"
        },
        "id": "iMfiRWJ9YKn-",
        "outputId": "2113396c-95df-4b90-ce93-a9a284167527"
      },
      "execution_count": null,
      "outputs": [
        {
          "output_type": "stream",
          "name": "stdout",
          "text": [
            "0.05\n"
          ]
        }
      ]
    },
    {
      "cell_type": "code",
      "source": [
        "# @title Ejercicio 5\n",
        "#Escribir un programa que pregunte al usuario por el número de horas trabajadas y el coste por hora. Después debe mostrar por pantalla la paga que le corresponde.\n",
        "\n",
        "horas = int(input(\"Digite horas laboradas: \"))\n",
        "costo = 5532\n",
        "print(\"El costo total a pagar es:\", str(costo*horas))"
      ],
      "metadata": {
        "colab": {
          "base_uri": "https://localhost:8080/"
        },
        "id": "5grzXPh6aeIo",
        "outputId": "82af7c9f-6bf8-4713-c133-81f009fc678e"
      },
      "execution_count": null,
      "outputs": [
        {
          "output_type": "stream",
          "name": "stdout",
          "text": [
            "Digite horas laboradas: 15\n",
            "El costo total a pagar es: 82980\n"
          ]
        }
      ]
    },
    {
      "cell_type": "code",
      "source": [],
      "metadata": {
        "id": "QkSCJrhpj01y"
      },
      "execution_count": null,
      "outputs": []
    },
    {
      "cell_type": "code",
      "source": [
        "# @title Ejercicio 6\n",
        "#Escribir un programa que lea un entero positivo n, introducido por el usuario y después muestre en pantalla la suma de todos los enteros desde 1 hasta n. La suma de los\n",
        "#primeros enteros positivos puede ser calculada de la siguiente forma:\n",
        "\n",
        "n = int(input(\"Introduce un número entero: \"))\n",
        "suma = n * (n + 1) / 2\n",
        "print(\"La suma de los primeros números enteros desde 1 hasta \" + str(n) + \" es \" + str(suma))\n"
      ],
      "metadata": {
        "colab": {
          "base_uri": "https://localhost:8080/"
        },
        "id": "s8sZekmhb8CH",
        "outputId": "7d8875ae-344e-4adb-d012-431ba2894a6f"
      },
      "execution_count": null,
      "outputs": [
        {
          "output_type": "stream",
          "name": "stdout",
          "text": [
            "Introduce un número entero: 5\n",
            "La suma de los primeros números enteros desde 1 hasta 5 es 15.0\n"
          ]
        }
      ]
    },
    {
      "cell_type": "code",
      "source": [
        "#@title Ejercicio 7\n",
        "#Escribir un programa que pida al usuario su peso (en kg) y estatura (en metros), calcule el índice de masa corporal\n",
        "# y lo almacene en una variable, y muestre por pantalla la frase Tu índice de masa corporal es <imc> donde <imc> es el\n",
        "#índice de masa corporal calculado redondeado con dos decimales.\n",
        "\n",
        "peso = int(input(\"Indique su peso: \"))\n",
        "altura = float(input(\"Ahora indique su altura:\"))\n",
        "print(\"Tú índice de masa corporal es \", str(peso/(altura*altura)))"
      ],
      "metadata": {
        "colab": {
          "base_uri": "https://localhost:8080/"
        },
        "id": "tdA2NEVrdhrp",
        "outputId": "7f13921d-c37b-4ba3-e6f0-03d5b67fbdbe"
      },
      "execution_count": null,
      "outputs": [
        {
          "output_type": "stream",
          "name": "stdout",
          "text": [
            "Indique su peso: 86\n",
            "Ahora indique su altura:1.70\n",
            "Tú índice de masa corporal es  29.75778546712803\n"
          ]
        }
      ]
    },
    {
      "cell_type": "code",
      "source": [
        "#@title Ejercicio 8\n",
        "#Escribir un programa que pida al usuario dos números enteros y muestre por pantalla la <n> entre <m> da un cociente <c>\n",
        "#y un resto <r> donde <n> y <m> son los números introducidos por el usuario, y <c> y <r> son el cociente y el resto de la división entera respectivamente.\n",
        "\n",
        "n = input(\"Introduce el dividendo (entero): \")\n",
        "m = input(\"Introduce el divisor (entero): \")\n",
        "print(n + \" entre \" +  m + \" da un cociente \" + str(int(n) // int(m)) + \" y un resto \" + str(int(n) % int(m)))"
      ],
      "metadata": {
        "colab": {
          "base_uri": "https://localhost:8080/"
        },
        "id": "4wFJ4jJRiWj5",
        "outputId": "db3747e6-c314-4a40-e100-dc5dabe5a614"
      },
      "execution_count": null,
      "outputs": [
        {
          "output_type": "stream",
          "name": "stdout",
          "text": [
            "Introduce el dividendo (entero): 5\n",
            "Introduce el divisor (entero): 9\n",
            "5 entre 9 da un cociente 0 y un resto 5\n"
          ]
        }
      ]
    },
    {
      "cell_type": "markdown",
      "source": [
        "\n",
        "\n",
        "# Curso Avanzado de python"
      ],
      "metadata": {
        "id": "p2SHEPec2kLB"
      }
    },
    {
      "cell_type": "code",
      "source": [
        "#@title Día 1 - Practica de print\n",
        "print(input(\"Dime tu nombre: \") + \" \" + input(\"Dime tu apellido: \"))"
      ],
      "metadata": {
        "colab": {
          "base_uri": "https://localhost:8080/"
        },
        "id": "ib_ab9lQ4dKd",
        "outputId": "afe2f439-3305-4401-b343-b67f489613c1"
      },
      "execution_count": null,
      "outputs": [
        {
          "output_type": "stream",
          "name": "stdout",
          "text": [
            "Dime tu nombre: Gino\n",
            "Dime tu apellido: Torres\n",
            "Gino Torres\n"
          ]
        }
      ]
    },
    {
      "cell_type": "code",
      "source": [
        "#@title Práctica Input 1\n",
        "#Crea un código que le permita ingresar una respuesta al usuario, haciéndole la siguiente pregunta:\n",
        "\n",
        "#¿Qué estás estudiando?\n",
        "\n",
        "#El código debe poder imprimir en pantalla lo ingresado por el usuario (utilizando print).\n",
        "\n",
        "print(input(\"¿Qué estás estudiando?\"))"
      ],
      "metadata": {
        "colab": {
          "base_uri": "https://localhost:8080/"
        },
        "id": "fnnTDTxS4pvZ",
        "outputId": "d6bea6e4-80dd-4431-c4d8-aad6b85b9f01"
      },
      "execution_count": null,
      "outputs": [
        {
          "output_type": "stream",
          "name": "stdout",
          "text": [
            "¿Qué estás estudiando?Ingeniería\n",
            "Ingeniería\n"
          ]
        }
      ]
    },
    {
      "cell_type": "code",
      "source": [
        "#@title Práctica Input 2\n",
        "#Crea un código que le permita ingresar una respuesta al usuario, haciéndole la siguiente pregunta:\n",
        "\n",
        "#¿En qué país vives?\n",
        "\n",
        "#El código debe poder imprimir en pantalla lo ingresado por el usuario (utilizando print).\n",
        "\n",
        "print(input(\"¿En qué país vives?: \"))"
      ],
      "metadata": {
        "colab": {
          "base_uri": "https://localhost:8080/"
        },
        "id": "oDp35llZ484P",
        "outputId": "dee952a5-bf9c-450d-caf4-90e802ee6888"
      },
      "execution_count": null,
      "outputs": [
        {
          "output_type": "stream",
          "name": "stdout",
          "text": [
            "¿En qué país vives?: Soledad\n",
            "Soledad\n"
          ]
        }
      ]
    },
    {
      "cell_type": "code",
      "source": [
        "#@title Práctica Input 3\n",
        "#Crea un código que muestre en pantalla el nombre completo del usuario, permitiéndole ingresar su nombre y apellido con las siguientes instrucciones:\n",
        "\n",
        "#Escribe tu nombre:\n",
        "#Escribe tu apellido:\n",
        "#El código debe poder imprimir en pantalla el nombre y apellido del usuario, separados por un espacio.\n",
        "\n",
        "print(input(\"Escribe tu nombre: \") + \" \" + input(\"Escribe tu apellido: \"))"
      ],
      "metadata": {
        "colab": {
          "base_uri": "https://localhost:8080/"
        },
        "id": "i3U62Lnb4Gg0",
        "outputId": "054929c5-4685-4004-8971-57882e271dbb"
      },
      "execution_count": null,
      "outputs": [
        {
          "output_type": "stream",
          "name": "stdout",
          "text": [
            "Escribe tu nombre: Gino\n",
            "Escribe tu apellido: Torres\n",
            "Gino Torres\n"
          ]
        }
      ]
    },
    {
      "cell_type": "code",
      "source": [
        "#@title Día 2 - Integer y float"
      ],
      "metadata": {
        "id": "rV5LdnibGYEd"
      },
      "execution_count": null,
      "outputs": []
    },
    {
      "cell_type": "code",
      "source": [
        "#@title Práctica con Integers\n",
        "#Declara una variable numérica llamada num_entero que contenga un valor de tipo integer de tu elección. Imprime el tipo de dato de dicha variable.\n",
        "\n",
        "num_entero = int(input(\"Digita un número:\"))\n",
        "print(type(num_entero))"
      ],
      "metadata": {
        "colab": {
          "base_uri": "https://localhost:8080/"
        },
        "id": "oW5WJNBNGfo8",
        "outputId": "bac126a7-5cf3-448a-9ef6-b5dcb42463eb"
      },
      "execution_count": null,
      "outputs": [
        {
          "output_type": "stream",
          "name": "stdout",
          "text": [
            "Digita un número:8\n",
            "<class 'int'>\n"
          ]
        }
      ]
    },
    {
      "cell_type": "code",
      "source": [
        "#@title Práctica con Floats\n",
        "#Declara una variable numérica llamada num_decimal que contenga un valor de tipo float de tu elección. Imprime el tipo de dato de dicha variable.\n",
        "\n",
        "num_decimal = float(input(\"Digita un número: \"))\n",
        "print(type(num_decimal))"
      ],
      "metadata": {
        "colab": {
          "base_uri": "https://localhost:8080/"
        },
        "id": "SdWx1uaAHlMg",
        "outputId": "15d3547b-0b0e-4a24-8932-1fef61bbe0af"
      },
      "execution_count": null,
      "outputs": [
        {
          "output_type": "stream",
          "name": "stdout",
          "text": [
            "Digita un número: 4.5\n",
            "<class 'float'>\n"
          ]
        }
      ]
    },
    {
      "cell_type": "code",
      "source": [
        "#@title Práctica con Tipos de Datos Numéricos\n",
        "#¿De qué tipo es el resultado de la suma de 7.5 + 2.5? Genera el código para verificarlo. Para ello, crea dos variables: num1 = 7.5 num2 = 2.5 A continuación,\n",
        "#muestra en pantalla el tipo de dato que resulta de la suma de ambos números. Realiza el mismo ejercicio en PyCharm para ver el resultado. ¿Coindice con lo que esperabas?\n",
        "\n",
        "num1 = 7.5\n",
        "num2 = 2.5\n",
        "print(type(num1+num2))\n",
        "print(num1+num2)"
      ],
      "metadata": {
        "colab": {
          "base_uri": "https://localhost:8080/"
        },
        "id": "RrVWu3qAJEAv",
        "outputId": "9c9b38aa-3b5d-4402-bae3-f4558459c271"
      },
      "execution_count": null,
      "outputs": [
        {
          "output_type": "stream",
          "name": "stdout",
          "text": [
            "<class 'float'>\n",
            "10.0\n"
          ]
        }
      ]
    },
    {
      "cell_type": "code",
      "source": [
        "#@title Práctica con Conversiones 1\n",
        "#Convierte el valor de num1 en un int e imprime el tipo de dato que resulta: num1 = 7.5\n",
        "num1 = 7.5\n",
        "num1 = int(num1)\n",
        "print(num1)\n",
        "print(type(num1))"
      ],
      "metadata": {
        "colab": {
          "base_uri": "https://localhost:8080/"
        },
        "id": "RJVBwI3BMZ-1",
        "outputId": "032242a1-4b44-4e84-e82e-a3ed2ff636ab"
      },
      "execution_count": null,
      "outputs": [
        {
          "output_type": "stream",
          "name": "stdout",
          "text": [
            "7\n",
            "<class 'int'>\n"
          ]
        }
      ]
    },
    {
      "cell_type": "code",
      "source": [
        "#@title Práctica con Conversiones 2\n",
        "#Convierte el valor de num2 en un float e imprime el tipo de dato que resulta: num2 = 10\n",
        "\n",
        "num2 = 10\n",
        "num2 = float(num2)\n",
        "print(type(num2))\n",
        "print(num2)"
      ],
      "metadata": {
        "colab": {
          "base_uri": "https://localhost:8080/"
        },
        "id": "eajefCirRWy2",
        "outputId": "31439700-f673-4393-e17f-d9979b550efe"
      },
      "execution_count": null,
      "outputs": [
        {
          "output_type": "stream",
          "name": "stdout",
          "text": [
            "<class 'float'>\n",
            "10.0\n"
          ]
        }
      ]
    },
    {
      "cell_type": "code",
      "source": [
        "#@title Práctica con Conversiones 3\n",
        "#Suma los valores de num1 y num2. No modifiques el valor de las variables ya declaradas, sino aplica las conversiones necesarias dentro de la función print().\n",
        "#num1 = \"7.5\" num2 = \"10\" print(num1 + num2)\n",
        "\n"
      ],
      "metadata": {
        "id": "aIGHRrj-USBz"
      },
      "execution_count": null,
      "outputs": []
    },
    {
      "cell_type": "code",
      "source": [
        "x = 5\n",
        "y = 10\n",
        "\n",
        "print(f\"la suma de {x} y {y} es {x+y}\")"
      ],
      "metadata": {
        "colab": {
          "base_uri": "https://localhost:8080/"
        },
        "id": "WXeRdWXkFvrS",
        "outputId": "df763983-25be-4658-dcdc-7234c66a947a"
      },
      "execution_count": null,
      "outputs": [
        {
          "output_type": "stream",
          "name": "stdout",
          "text": [
            "la suma de 5 y 10 es 15\n"
          ]
        }
      ]
    },
    {
      "cell_type": "code",
      "source": [
        "#@title Práctica Formatear Cadenas 1\n",
        "#Necesitamos imprimir el nombre y número de asociado dentro de la siguiente frase: \"Estimado/a (nombre_asociado),\n",
        "#su número de asociado es: (numero_asociado)\" Recuerda que la precisión de tu respuesta (espacios, ortografía y puntuación),\n",
        "#es muy importante para llegar al resultado correcto. nombre_asociado = \"Jesse Pinkman\" numero_asociado = 399058\n",
        "\n",
        "nombre_asociado = \"Jesse Pinkman\"\n",
        "numero_asociado = 399058\n",
        "print(f\"Estimado/a {nombre_asociado}, su numero de asociado es: {numero_asociado}\")"
      ],
      "metadata": {
        "colab": {
          "base_uri": "https://localhost:8080/"
        },
        "id": "ardCnW1jHo9i",
        "outputId": "c6249d36-ef7d-487f-8414-7f5c2b75102a"
      },
      "execution_count": null,
      "outputs": [
        {
          "output_type": "stream",
          "name": "stdout",
          "text": [
            "Estimado/a Jesse Pinkman, su numero de asociado es: 399058\n"
          ]
        }
      ]
    },
    {
      "cell_type": "code",
      "source": [
        "#@title Práctica Formatear Cadenas 2\n",
        "#Muestra al usuario la cantidad de puntos acumulados dentro de la siguiente frase: \"Has ganado (puntos_nuevos) puntos! En total, acumulas (puntos_totales) puntos\"\n",
        "#Recuerda que la precisión de tu respuesta (espacios, ortografía y puntuación), es muy importante para llegar al resultado correcto. puntos_nuevos = 350 puntos_totales = 1225\n",
        "\n",
        "puntos_nuevos = 350\n",
        "puntos_totales = 1225\n",
        "print(f\"Has ganado {puntos_nuevos} puntos! en total, acumulas {puntos_totales} puntos.\")"
      ],
      "metadata": {
        "colab": {
          "base_uri": "https://localhost:8080/"
        },
        "id": "QMtEacKxIdAs",
        "outputId": "9d2df401-3dfb-4ce7-9e3a-62f0e5b59e45"
      },
      "execution_count": null,
      "outputs": [
        {
          "output_type": "stream",
          "name": "stdout",
          "text": [
            "Has ganado 350 puntos! en total, acumulas 1225 puntos.\n"
          ]
        }
      ]
    },
    {
      "cell_type": "code",
      "source": [
        "#@title Práctica Formatear Cadenas 3\n",
        "#Muestra al usuario la cantidad de puntos acumulados dentro de la siguiente frase: \"Has ganado (puntos_nuevos) puntos! En total, acumulas (puntos_totales) puntos\"\n",
        "#En esta ocasión, la cantidad de puntos acumulados (totales) será igual a los puntos_anteriores más los puntos_nuevos.\n",
        "#Recuerda que la precisión de tu respuesta (espacios, ortografía y puntuación), es muy importante para llegar al resultado correcto. puntos_anteriores = 875 puntos_nuevos = 350\n",
        "\n"
      ],
      "metadata": {
        "id": "kPTFEYwvJNXx"
      },
      "execution_count": null,
      "outputs": []
    }
  ]
}